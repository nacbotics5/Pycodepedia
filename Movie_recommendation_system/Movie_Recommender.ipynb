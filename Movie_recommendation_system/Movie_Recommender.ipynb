{
 "cells": [
  {
   "cell_type": "code",
   "execution_count": 1,
   "metadata": {},
   "outputs": [],
   "source": [
    "import os\n",
    "import pandas as pd\n",
    "import numpy as np\n",
    "from sklearn.feature_extraction.text import CountVectorizer\n",
    "from sklearn.metrics.pairwise import cosine_similarity"
   ]
  },
  {
   "cell_type": "code",
   "execution_count": 2,
   "metadata": {},
   "outputs": [],
   "source": [
    "cv = CountVectorizer()\n",
    "df = pd.read_csv(\"Tvseries_Dataset.csv\")\n"
   ]
  },
  {
   "cell_type": "code",
   "execution_count": 3,
   "metadata": {},
   "outputs": [],
   "source": [
    "def get_title_from_index(index):\n",
    "    return df[df.index == index][\"movie_name\"].values[0]\n",
    "\n",
    "def get_index_from_title(title):\n",
    "    return df[df.movie_name == title][\"index\"].values[0]\n"
   ]
  },
  {
   "cell_type": "code",
   "execution_count": 4,
   "metadata": {},
   "outputs": [],
   "source": [
    "def combine_features(row):\n",
    "        try:\n",
    "            return(row[\"genres\"]+\" \"+str(row[\"views\"])+\" \"+str(row[\"rating\"])+\" \"+row['casts'])\n",
    "        except Exception as e:\n",
    "            return(\"Error:\", e)"
   ]
  },
  {
   "cell_type": "code",
   "execution_count": 5,
   "metadata": {},
   "outputs": [],
   "source": [
    "def recommend(movie_name):\n",
    "        listitems = []\n",
    "        df[\"combined_features\"] = df.apply(combine_features,axis=1)\n",
    "        count_matrix = cv.fit_transform(df[\"combined_features\"])\n",
    "        cosine_sim = cosine_similarity(count_matrix)\n",
    "        movie_index = get_index_from_title(movie_name)\n",
    "        similar_movies =  list(enumerate(cosine_sim[movie_index]))\n",
    "        sorted_similar_movies = sorted(similar_movies,key=lambda x:x[1],reverse=True)\n",
    "        for element in sorted_similar_movies:\n",
    "            listitems.append(get_title_from_index(element[0]))\n",
    "        return(listitems[1:])"
   ]
  },
  {
   "cell_type": "code",
   "execution_count": 6,
   "metadata": {},
   "outputs": [
    {
     "name": "stdout",
     "output_type": "stream",
     "text": [
      "Into the Night\n",
      "Counterpart\n",
      "The Tomorrow People\n",
      "Devs\n",
      "The Feed\n"
     ]
    }
   ],
   "source": [
    "item  = recommend(\"The Man in the High Castle\")\n",
    "for i in item[:5]:print(i)"
   ]
  },
  {
   "cell_type": "code",
   "execution_count": null,
   "metadata": {},
   "outputs": [],
   "source": []
  }
 ],
 "metadata": {
  "kernelspec": {
   "display_name": "Python 3",
   "language": "python",
   "name": "python3"
  },
  "language_info": {
   "codemirror_mode": {
    "name": "ipython",
    "version": 3
   },
   "file_extension": ".py",
   "mimetype": "text/x-python",
   "name": "python",
   "nbconvert_exporter": "python",
   "pygments_lexer": "ipython3",
   "version": "3.6.9"
  }
 },
 "nbformat": 4,
 "nbformat_minor": 4
}
